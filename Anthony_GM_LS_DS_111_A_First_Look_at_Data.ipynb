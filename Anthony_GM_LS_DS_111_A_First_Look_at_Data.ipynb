{
  "nbformat": 4,
  "nbformat_minor": 0,
  "metadata": {
    "colab": {
      "name": "Anthony GM - LS_DS_111_A_First_Look_at_Data.ipynb",
      "version": "0.3.2",
      "provenance": [],
      "collapsed_sections": [],
      "include_colab_link": true
    },
    "kernelspec": {
      "name": "python3",
      "display_name": "Python 3"
    }
  },
  "cells": [
    {
      "cell_type": "markdown",
      "metadata": {
        "id": "view-in-github",
        "colab_type": "text"
      },
      "source": [
        "<a href=\"https://colab.research.google.com/github/Anthonyyoyo/DS-Unit-1-Sprint-1-Dealing-With-Data/blob/master/Anthony_GM_LS_DS_111_A_First_Look_at_Data.ipynb\" target=\"_parent\"><img src=\"https://colab.research.google.com/assets/colab-badge.svg\" alt=\"Open In Colab\"/></a>"
      ]
    },
    {
      "cell_type": "markdown",
      "metadata": {
        "id": "Okfr_uhwhS1X",
        "colab_type": "text"
      },
      "source": [
        "# Lambda School Data Science - A First Look at Data\n",
        "\n"
      ]
    },
    {
      "cell_type": "markdown",
      "metadata": {
        "id": "9dtJETFRhnOG",
        "colab_type": "text"
      },
      "source": [
        "## Lecture - let's explore Python DS libraries and examples!\n",
        "\n",
        "The Python Data Science ecosystem is huge. You've seen some of the big pieces - pandas, scikit-learn, matplotlib. What parts do you want to see more of?"
      ]
    },
    {
      "cell_type": "code",
      "metadata": {
        "id": "WiBkgmPJhmhE",
        "colab_type": "code",
        "outputId": "6a1ad002-3d09-42d6-c25c-33b265c4f4c1",
        "colab": {
          "base_uri": "https://localhost:8080/",
          "height": 35
        }
      },
      "source": [
        "2 + 3"
      ],
      "execution_count": 1,
      "outputs": [
        {
          "output_type": "execute_result",
          "data": {
            "text/plain": [
              "5"
            ]
          },
          "metadata": {
            "tags": []
          },
          "execution_count": 1
        }
      ]
    },
    {
      "cell_type": "code",
      "metadata": {
        "id": "KKgE3zEOfbAo",
        "colab_type": "code",
        "colab": {}
      },
      "source": [
        "#I made this change"
      ],
      "execution_count": 0,
      "outputs": []
    },
    {
      "cell_type": "markdown",
      "metadata": {
        "id": "lOqaPds9huME",
        "colab_type": "text"
      },
      "source": [
        "## Assignment - now it's your turn\n",
        "\n",
        "Pick at least one Python DS library, and using documentation/examples reproduce in this notebook something cool. It's OK if you don't fully understand it or get it 100% working, but do put in effort and look things up."
      ]
    },
    {
      "cell_type": "markdown",
      "metadata": {
        "id": "p9uPT11bicJY",
        "colab_type": "text"
      },
      "source": [
        "###LOADING DATA"
      ]
    },
    {
      "cell_type": "code",
      "metadata": {
        "id": "TGUS79cOhPWj",
        "colab_type": "code",
        "colab": {
          "base_uri": "https://localhost:8080/",
          "height": 225
        },
        "outputId": "477c41b2-fb67-49e5-f188-656bee38c523"
      },
      "source": [
        "# TODO - your code here\n",
        "\n",
        "import pandas as pd\n",
        "data_fl = pd.read_csv('https://raw.githubusercontent.com/fivethirtyeight/nfl-elo-game/master/data/initial_elos.csv')\n",
        "print(data_fl.shape)\n",
        "data_fl.head()"
      ],
      "execution_count": 6,
      "outputs": [
        {
          "output_type": "stream",
          "text": [
            "(123, 2)\n"
          ],
          "name": "stdout"
        },
        {
          "output_type": "execute_result",
          "data": {
            "text/html": [
              "<div>\n",
              "<style scoped>\n",
              "    .dataframe tbody tr th:only-of-type {\n",
              "        vertical-align: middle;\n",
              "    }\n",
              "\n",
              "    .dataframe tbody tr th {\n",
              "        vertical-align: top;\n",
              "    }\n",
              "\n",
              "    .dataframe thead th {\n",
              "        text-align: right;\n",
              "    }\n",
              "</style>\n",
              "<table border=\"1\" class=\"dataframe\">\n",
              "  <thead>\n",
              "    <tr style=\"text-align: right;\">\n",
              "      <th></th>\n",
              "      <th>team</th>\n",
              "      <th>elo</th>\n",
              "    </tr>\n",
              "  </thead>\n",
              "  <tbody>\n",
              "    <tr>\n",
              "      <th>0</th>\n",
              "      <td>RII</td>\n",
              "      <td>1503.947</td>\n",
              "    </tr>\n",
              "    <tr>\n",
              "      <th>1</th>\n",
              "      <td>STP</td>\n",
              "      <td>1300.000</td>\n",
              "    </tr>\n",
              "    <tr>\n",
              "      <th>2</th>\n",
              "      <td>BFF</td>\n",
              "      <td>1478.004</td>\n",
              "    </tr>\n",
              "    <tr>\n",
              "      <th>3</th>\n",
              "      <td>WBU</td>\n",
              "      <td>1300.000</td>\n",
              "    </tr>\n",
              "    <tr>\n",
              "      <th>4</th>\n",
              "      <td>RCH</td>\n",
              "      <td>1503.420</td>\n",
              "    </tr>\n",
              "  </tbody>\n",
              "</table>\n",
              "</div>"
            ],
            "text/plain": [
              "  team       elo\n",
              "0  RII  1503.947\n",
              "1  STP  1300.000\n",
              "2  BFF  1478.004\n",
              "3  WBU  1300.000\n",
              "4  RCH  1503.420"
            ]
          },
          "metadata": {
            "tags": []
          },
          "execution_count": 6
        }
      ]
    },
    {
      "cell_type": "code",
      "metadata": {
        "id": "MCeEV_nzEoUB",
        "colab_type": "code",
        "colab": {
          "base_uri": "https://localhost:8080/",
          "height": 35
        },
        "outputId": "b54d88e2-76fa-4989-be10-837445947441"
      },
      "source": [
        "data_fl.columns"
      ],
      "execution_count": 8,
      "outputs": [
        {
          "output_type": "execute_result",
          "data": {
            "text/plain": [
              "Index(['team', 'elo'], dtype='object')"
            ]
          },
          "metadata": {
            "tags": []
          },
          "execution_count": 8
        }
      ]
    },
    {
      "cell_type": "code",
      "metadata": {
        "id": "ozU-QihEExJr",
        "colab_type": "code",
        "colab": {
          "base_uri": "https://localhost:8080/",
          "height": 426
        },
        "outputId": "d5229d72-78d1-4660-8547-52eb4b1933aa"
      },
      "source": [
        "data_fl.sort_values(by = ['elo'], ascending = True, na_position = 'first')[:12]"
      ],
      "execution_count": 58,
      "outputs": [
        {
          "output_type": "execute_result",
          "data": {
            "text/html": [
              "<div>\n",
              "<style scoped>\n",
              "    .dataframe tbody tr th:only-of-type {\n",
              "        vertical-align: middle;\n",
              "    }\n",
              "\n",
              "    .dataframe tbody tr th {\n",
              "        vertical-align: top;\n",
              "    }\n",
              "\n",
              "    .dataframe thead th {\n",
              "        text-align: right;\n",
              "    }\n",
              "</style>\n",
              "<table border=\"1\" class=\"dataframe\">\n",
              "  <thead>\n",
              "    <tr style=\"text-align: right;\">\n",
              "      <th></th>\n",
              "      <th>team</th>\n",
              "      <th>elo</th>\n",
              "    </tr>\n",
              "  </thead>\n",
              "  <tbody>\n",
              "    <tr>\n",
              "      <th>122</th>\n",
              "      <td>HOU</td>\n",
              "      <td>1300.0</td>\n",
              "    </tr>\n",
              "    <tr>\n",
              "      <th>84</th>\n",
              "      <td>PIT</td>\n",
              "      <td>1300.0</td>\n",
              "    </tr>\n",
              "    <tr>\n",
              "      <th>83</th>\n",
              "      <td>RED</td>\n",
              "      <td>1300.0</td>\n",
              "    </tr>\n",
              "    <tr>\n",
              "      <th>82</th>\n",
              "      <td>WSH</td>\n",
              "      <td>1300.0</td>\n",
              "    </tr>\n",
              "    <tr>\n",
              "      <th>81</th>\n",
              "      <td>CLI</td>\n",
              "      <td>1300.0</td>\n",
              "    </tr>\n",
              "    <tr>\n",
              "      <th>80</th>\n",
              "      <td>BKN</td>\n",
              "      <td>1300.0</td>\n",
              "    </tr>\n",
              "    <tr>\n",
              "      <th>116</th>\n",
              "      <td>CIN</td>\n",
              "      <td>1300.0</td>\n",
              "    </tr>\n",
              "    <tr>\n",
              "      <th>117</th>\n",
              "      <td>TB</td>\n",
              "      <td>1300.0</td>\n",
              "    </tr>\n",
              "    <tr>\n",
              "      <th>76</th>\n",
              "      <td>DWL</td>\n",
              "      <td>1300.0</td>\n",
              "    </tr>\n",
              "    <tr>\n",
              "      <th>74</th>\n",
              "      <td>BRL</td>\n",
              "      <td>1300.0</td>\n",
              "    </tr>\n",
              "    <tr>\n",
              "      <th>73</th>\n",
              "      <td>LAB</td>\n",
              "      <td>1300.0</td>\n",
              "    </tr>\n",
              "    <tr>\n",
              "      <th>71</th>\n",
              "      <td>NYG</td>\n",
              "      <td>1300.0</td>\n",
              "    </tr>\n",
              "  </tbody>\n",
              "</table>\n",
              "</div>"
            ],
            "text/plain": [
              "    team     elo\n",
              "122  HOU  1300.0\n",
              "84   PIT  1300.0\n",
              "83   RED  1300.0\n",
              "82   WSH  1300.0\n",
              "81   CLI  1300.0\n",
              "80   BKN  1300.0\n",
              "116  CIN  1300.0\n",
              "117   TB  1300.0\n",
              "76   DWL  1300.0\n",
              "74   BRL  1300.0\n",
              "73   LAB  1300.0\n",
              "71   NYG  1300.0"
            ]
          },
          "metadata": {
            "tags": []
          },
          "execution_count": 58
        }
      ]
    },
    {
      "cell_type": "code",
      "metadata": {
        "id": "DR_CYnt7M_qr",
        "colab_type": "code",
        "colab": {
          "base_uri": "https://localhost:8080/",
          "height": 72
        },
        "outputId": "6f09b1a7-31bf-4e66-efa0-eb6b0fd6dedd"
      },
      "source": [
        "\n",
        "#READING FILES\n",
        "#Step 1\n",
        "\n",
        "!ls sample_data\n"
      ],
      "execution_count": 22,
      "outputs": [
        {
          "output_type": "stream",
          "text": [
            "anscombe.json\t\t      mnist_test.csv\n",
            "california_housing_test.csv   mnist_train_small.csv\n",
            "california_housing_train.csv  README.md\n"
          ],
          "name": "stdout"
        }
      ]
    },
    {
      "cell_type": "code",
      "metadata": {
        "id": "uENiOXBtOuTg",
        "colab_type": "code",
        "colab": {
          "base_uri": "https://localhost:8080/",
          "height": 219
        },
        "outputId": "5b6e738a-ff8f-4fd2-fe21-82dc72413c3a"
      },
      "source": [
        "#Step 2\n",
        "\n",
        "!wget https://raw.githubusercontent.com/fivethirtyeight/nfl-elo-game/master/data/initial_elos.csv"
      ],
      "execution_count": 23,
      "outputs": [
        {
          "output_type": "stream",
          "text": [
            "--2019-08-07 08:38:58--  https://raw.githubusercontent.com/fivethirtyeight/nfl-elo-game/master/data/initial_elos.csv\n",
            "Resolving raw.githubusercontent.com (raw.githubusercontent.com)... 151.101.0.133, 151.101.64.133, 151.101.128.133, ...\n",
            "Connecting to raw.githubusercontent.com (raw.githubusercontent.com)|151.101.0.133|:443... connected.\n",
            "HTTP request sent, awaiting response... 200 OK\n",
            "Length: 1415 (1.4K) [text/plain]\n",
            "Saving to: ‘initial_elos.csv’\n",
            "\n",
            "\rinitial_elos.csv      0%[                    ]       0  --.-KB/s               \rinitial_elos.csv    100%[===================>]   1.38K  --.-KB/s    in 0s      \n",
            "\n",
            "2019-08-07 08:38:58 (175 MB/s) - ‘initial_elos.csv’ saved [1415/1415]\n",
            "\n"
          ],
          "name": "stdout"
        }
      ]
    },
    {
      "cell_type": "code",
      "metadata": {
        "id": "mlGc7cpRO2tG",
        "colab_type": "code",
        "colab": {
          "base_uri": "https://localhost:8080/",
          "height": 35
        },
        "outputId": "9941ce32-e662-405f-9661-e3906f50c5bc"
      },
      "source": [
        "!ls"
      ],
      "execution_count": 24,
      "outputs": [
        {
          "output_type": "stream",
          "text": [
            "initial_elos.csv  sample_data\n"
          ],
          "name": "stdout"
        }
      ]
    },
    {
      "cell_type": "code",
      "metadata": {
        "id": "GgnuzzIVP3iC",
        "colab_type": "code",
        "colab": {
          "base_uri": "https://localhost:8080/",
          "height": 127
        },
        "outputId": "0a1bb294-f1f8-43b3-8381-667f365a1e40"
      },
      "source": [
        "data_fl2 = pd.read_csv('initial_elos.csv')\n",
        "print(data_fl2.head())"
      ],
      "execution_count": 27,
      "outputs": [
        {
          "output_type": "stream",
          "text": [
            "  team       elo\n",
            "0  RII  1503.947\n",
            "1  STP  1300.000\n",
            "2  BFF  1478.004\n",
            "3  WBU  1300.000\n",
            "4  RCH  1503.420\n"
          ],
          "name": "stdout"
        }
      ]
    },
    {
      "cell_type": "code",
      "metadata": {
        "id": "BMo03xkLZNOj",
        "colab_type": "code",
        "colab": {
          "base_uri": "https://localhost:8080/",
          "height": 35
        },
        "outputId": "59d8d27a-2131-4209-9a91-6585b71c3df4"
      },
      "source": [
        "print(data_fl2.shape)"
      ],
      "execution_count": 28,
      "outputs": [
        {
          "output_type": "stream",
          "text": [
            "(123, 2)\n"
          ],
          "name": "stdout"
        }
      ]
    },
    {
      "cell_type": "code",
      "metadata": {
        "id": "RaOUC8lQZpeB",
        "colab_type": "code",
        "colab": {
          "base_uri": "https://localhost:8080/",
          "height": 426
        },
        "outputId": "6acd6ca8-9ac9-4ada-92ef-1d9d4a1998df"
      },
      "source": [
        "data_fl2.nlargest(12, 'elo')"
      ],
      "execution_count": 29,
      "outputs": [
        {
          "output_type": "execute_result",
          "data": {
            "text/html": [
              "<div>\n",
              "<style scoped>\n",
              "    .dataframe tbody tr th:only-of-type {\n",
              "        vertical-align: middle;\n",
              "    }\n",
              "\n",
              "    .dataframe tbody tr th {\n",
              "        vertical-align: top;\n",
              "    }\n",
              "\n",
              "    .dataframe thead th {\n",
              "        text-align: right;\n",
              "    }\n",
              "</style>\n",
              "<table border=\"1\" class=\"dataframe\">\n",
              "  <thead>\n",
              "    <tr style=\"text-align: right;\">\n",
              "      <th></th>\n",
              "      <th>team</th>\n",
              "      <th>elo</th>\n",
              "    </tr>\n",
              "  </thead>\n",
              "  <tbody>\n",
              "    <tr>\n",
              "      <th>77</th>\n",
              "      <td>TOR</td>\n",
              "      <td>1505.000</td>\n",
              "    </tr>\n",
              "    <tr>\n",
              "      <th>61</th>\n",
              "      <td>TOL</td>\n",
              "      <td>1504.938</td>\n",
              "    </tr>\n",
              "    <tr>\n",
              "      <th>7</th>\n",
              "      <td>COL</td>\n",
              "      <td>1504.908</td>\n",
              "    </tr>\n",
              "    <tr>\n",
              "      <th>11</th>\n",
              "      <td>CBD</td>\n",
              "      <td>1504.688</td>\n",
              "    </tr>\n",
              "    <tr>\n",
              "      <th>51</th>\n",
              "      <td>MNN</td>\n",
              "      <td>1504.688</td>\n",
              "    </tr>\n",
              "    <tr>\n",
              "      <th>78</th>\n",
              "      <td>SIS</td>\n",
              "      <td>1504.298</td>\n",
              "    </tr>\n",
              "    <tr>\n",
              "      <th>0</th>\n",
              "      <td>RII</td>\n",
              "      <td>1503.947</td>\n",
              "    </tr>\n",
              "    <tr>\n",
              "      <th>4</th>\n",
              "      <td>RCH</td>\n",
              "      <td>1503.420</td>\n",
              "    </tr>\n",
              "    <tr>\n",
              "      <th>13</th>\n",
              "      <td>AKR</td>\n",
              "      <td>1503.420</td>\n",
              "    </tr>\n",
              "    <tr>\n",
              "      <th>50</th>\n",
              "      <td>CCL</td>\n",
              "      <td>1502.630</td>\n",
              "    </tr>\n",
              "    <tr>\n",
              "      <th>15</th>\n",
              "      <td>DHR</td>\n",
              "      <td>1499.667</td>\n",
              "    </tr>\n",
              "    <tr>\n",
              "      <th>70</th>\n",
              "      <td>PRV</td>\n",
              "      <td>1499.667</td>\n",
              "    </tr>\n",
              "  </tbody>\n",
              "</table>\n",
              "</div>"
            ],
            "text/plain": [
              "   team       elo\n",
              "77  TOR  1505.000\n",
              "61  TOL  1504.938\n",
              "7   COL  1504.908\n",
              "11  CBD  1504.688\n",
              "51  MNN  1504.688\n",
              "78  SIS  1504.298\n",
              "0   RII  1503.947\n",
              "4   RCH  1503.420\n",
              "13  AKR  1503.420\n",
              "50  CCL  1502.630\n",
              "15  DHR  1499.667\n",
              "70  PRV  1499.667"
            ]
          },
          "metadata": {
            "tags": []
          },
          "execution_count": 29
        }
      ]
    },
    {
      "cell_type": "markdown",
      "metadata": {
        "id": "wlx4ls0CilQM",
        "colab_type": "text"
      },
      "source": [
        "###BRIEF DATA ANALYSIS"
      ]
    },
    {
      "cell_type": "code",
      "metadata": {
        "id": "40FTRCwZbghX",
        "colab_type": "code",
        "colab": {}
      },
      "source": [
        "import numpy as np"
      ],
      "execution_count": 0,
      "outputs": []
    },
    {
      "cell_type": "code",
      "metadata": {
        "id": "999973wybj0R",
        "colab_type": "code",
        "colab": {
          "base_uri": "https://localhost:8080/",
          "height": 72
        },
        "outputId": "0eef0807-085a-49e4-eb18-22dfa3ca7447"
      },
      "source": [
        "team_mean = np.mean(data_fl2)\n",
        "print(team_mean)"
      ],
      "execution_count": 42,
      "outputs": [
        {
          "output_type": "stream",
          "text": [
            "elo             1342.140805\n",
            "largest_team       0.121951\n",
            "dtype: float64\n"
          ],
          "name": "stdout"
        }
      ]
    },
    {
      "cell_type": "code",
      "metadata": {
        "id": "cpxFS232Z37Q",
        "colab_type": "code",
        "colab": {}
      },
      "source": [
        "data_fl2['largest_team'] = data_fl2['elo'] >= 1342\n",
        "\n"
      ],
      "execution_count": 0,
      "outputs": []
    },
    {
      "cell_type": "code",
      "metadata": {
        "id": "tkOx5CY8aol_",
        "colab_type": "code",
        "colab": {
          "base_uri": "https://localhost:8080/",
          "height": 834
        },
        "outputId": "e6765531-913e-43d4-de54-af255ed1ef3e"
      },
      "source": [
        "data_fl2[:25]"
      ],
      "execution_count": 45,
      "outputs": [
        {
          "output_type": "execute_result",
          "data": {
            "text/html": [
              "<div>\n",
              "<style scoped>\n",
              "    .dataframe tbody tr th:only-of-type {\n",
              "        vertical-align: middle;\n",
              "    }\n",
              "\n",
              "    .dataframe tbody tr th {\n",
              "        vertical-align: top;\n",
              "    }\n",
              "\n",
              "    .dataframe thead th {\n",
              "        text-align: right;\n",
              "    }\n",
              "</style>\n",
              "<table border=\"1\" class=\"dataframe\">\n",
              "  <thead>\n",
              "    <tr style=\"text-align: right;\">\n",
              "      <th></th>\n",
              "      <th>team</th>\n",
              "      <th>elo</th>\n",
              "      <th>largest_team</th>\n",
              "    </tr>\n",
              "  </thead>\n",
              "  <tbody>\n",
              "    <tr>\n",
              "      <th>0</th>\n",
              "      <td>RII</td>\n",
              "      <td>1503.947</td>\n",
              "      <td>True</td>\n",
              "    </tr>\n",
              "    <tr>\n",
              "      <th>1</th>\n",
              "      <td>STP</td>\n",
              "      <td>1300.000</td>\n",
              "      <td>False</td>\n",
              "    </tr>\n",
              "    <tr>\n",
              "      <th>2</th>\n",
              "      <td>BFF</td>\n",
              "      <td>1478.004</td>\n",
              "      <td>True</td>\n",
              "    </tr>\n",
              "    <tr>\n",
              "      <th>3</th>\n",
              "      <td>WBU</td>\n",
              "      <td>1300.000</td>\n",
              "      <td>False</td>\n",
              "    </tr>\n",
              "    <tr>\n",
              "      <th>4</th>\n",
              "      <td>RCH</td>\n",
              "      <td>1503.420</td>\n",
              "      <td>True</td>\n",
              "    </tr>\n",
              "    <tr>\n",
              "      <th>5</th>\n",
              "      <td>ABU</td>\n",
              "      <td>1300.000</td>\n",
              "      <td>False</td>\n",
              "    </tr>\n",
              "    <tr>\n",
              "      <th>6</th>\n",
              "      <td>DAY</td>\n",
              "      <td>1493.002</td>\n",
              "      <td>True</td>\n",
              "    </tr>\n",
              "    <tr>\n",
              "      <th>7</th>\n",
              "      <td>COL</td>\n",
              "      <td>1504.908</td>\n",
              "      <td>True</td>\n",
              "    </tr>\n",
              "    <tr>\n",
              "      <th>8</th>\n",
              "      <td>MUN</td>\n",
              "      <td>1478.004</td>\n",
              "      <td>True</td>\n",
              "    </tr>\n",
              "    <tr>\n",
              "      <th>9</th>\n",
              "      <td>CHI</td>\n",
              "      <td>1368.333</td>\n",
              "      <td>True</td>\n",
              "    </tr>\n",
              "    <tr>\n",
              "      <th>10</th>\n",
              "      <td>MUT</td>\n",
              "      <td>1300.000</td>\n",
              "      <td>False</td>\n",
              "    </tr>\n",
              "    <tr>\n",
              "      <th>11</th>\n",
              "      <td>CBD</td>\n",
              "      <td>1504.688</td>\n",
              "      <td>True</td>\n",
              "    </tr>\n",
              "    <tr>\n",
              "      <th>12</th>\n",
              "      <td>PTQ</td>\n",
              "      <td>1300.000</td>\n",
              "      <td>False</td>\n",
              "    </tr>\n",
              "    <tr>\n",
              "      <th>13</th>\n",
              "      <td>AKR</td>\n",
              "      <td>1503.420</td>\n",
              "      <td>True</td>\n",
              "    </tr>\n",
              "    <tr>\n",
              "      <th>14</th>\n",
              "      <td>WHE</td>\n",
              "      <td>1300.000</td>\n",
              "      <td>False</td>\n",
              "    </tr>\n",
              "    <tr>\n",
              "      <th>15</th>\n",
              "      <td>DHR</td>\n",
              "      <td>1499.667</td>\n",
              "      <td>True</td>\n",
              "    </tr>\n",
              "    <tr>\n",
              "      <th>16</th>\n",
              "      <td>CLP</td>\n",
              "      <td>1300.000</td>\n",
              "      <td>False</td>\n",
              "    </tr>\n",
              "    <tr>\n",
              "      <th>17</th>\n",
              "      <td>CHT</td>\n",
              "      <td>1300.000</td>\n",
              "      <td>False</td>\n",
              "    </tr>\n",
              "    <tr>\n",
              "      <th>18</th>\n",
              "      <td>ARI</td>\n",
              "      <td>1493.002</td>\n",
              "      <td>True</td>\n",
              "    </tr>\n",
              "    <tr>\n",
              "      <th>19</th>\n",
              "      <td>CTI</td>\n",
              "      <td>1464.506</td>\n",
              "      <td>True</td>\n",
              "    </tr>\n",
              "    <tr>\n",
              "      <th>20</th>\n",
              "      <td>FTP</td>\n",
              "      <td>1300.000</td>\n",
              "      <td>False</td>\n",
              "    </tr>\n",
              "    <tr>\n",
              "      <th>21</th>\n",
              "      <td>HAM</td>\n",
              "      <td>1444.259</td>\n",
              "      <td>True</td>\n",
              "    </tr>\n",
              "    <tr>\n",
              "      <th>22</th>\n",
              "      <td>KEW</td>\n",
              "      <td>1300.000</td>\n",
              "      <td>False</td>\n",
              "    </tr>\n",
              "    <tr>\n",
              "      <th>23</th>\n",
              "      <td>TLM</td>\n",
              "      <td>1300.000</td>\n",
              "      <td>False</td>\n",
              "    </tr>\n",
              "    <tr>\n",
              "      <th>24</th>\n",
              "      <td>MCK</td>\n",
              "      <td>1300.000</td>\n",
              "      <td>False</td>\n",
              "    </tr>\n",
              "  </tbody>\n",
              "</table>\n",
              "</div>"
            ],
            "text/plain": [
              "   team       elo  largest_team\n",
              "0   RII  1503.947          True\n",
              "1   STP  1300.000         False\n",
              "2   BFF  1478.004          True\n",
              "3   WBU  1300.000         False\n",
              "4   RCH  1503.420          True\n",
              "5   ABU  1300.000         False\n",
              "6   DAY  1493.002          True\n",
              "7   COL  1504.908          True\n",
              "8   MUN  1478.004          True\n",
              "9   CHI  1368.333          True\n",
              "10  MUT  1300.000         False\n",
              "11  CBD  1504.688          True\n",
              "12  PTQ  1300.000         False\n",
              "13  AKR  1503.420          True\n",
              "14  WHE  1300.000         False\n",
              "15  DHR  1499.667          True\n",
              "16  CLP  1300.000         False\n",
              "17  CHT  1300.000         False\n",
              "18  ARI  1493.002          True\n",
              "19  CTI  1464.506          True\n",
              "20  FTP  1300.000         False\n",
              "21  HAM  1444.259          True\n",
              "22  KEW  1300.000         False\n",
              "23  TLM  1300.000         False\n",
              "24  MCK  1300.000         False"
            ]
          },
          "metadata": {
            "tags": []
          },
          "execution_count": 45
        }
      ]
    },
    {
      "cell_type": "code",
      "metadata": {
        "id": "TrmLqtd3b7kC",
        "colab_type": "code",
        "colab": {
          "base_uri": "https://localhost:8080/",
          "height": 206
        },
        "outputId": "10b552d0-23fb-4504-d514-269bbd2a2cbc"
      },
      "source": [
        "\n",
        "#Using a different mehod to get true or false\n",
        "data_fl2['larger_team'] = np.where(data_fl2['elo'] > 1000, 'Yes', 'No')\n",
        "\n",
        "data_fl2.head()"
      ],
      "execution_count": 47,
      "outputs": [
        {
          "output_type": "execute_result",
          "data": {
            "text/html": [
              "<div>\n",
              "<style scoped>\n",
              "    .dataframe tbody tr th:only-of-type {\n",
              "        vertical-align: middle;\n",
              "    }\n",
              "\n",
              "    .dataframe tbody tr th {\n",
              "        vertical-align: top;\n",
              "    }\n",
              "\n",
              "    .dataframe thead th {\n",
              "        text-align: right;\n",
              "    }\n",
              "</style>\n",
              "<table border=\"1\" class=\"dataframe\">\n",
              "  <thead>\n",
              "    <tr style=\"text-align: right;\">\n",
              "      <th></th>\n",
              "      <th>team</th>\n",
              "      <th>elo</th>\n",
              "      <th>largest_team</th>\n",
              "      <th>larger_team</th>\n",
              "    </tr>\n",
              "  </thead>\n",
              "  <tbody>\n",
              "    <tr>\n",
              "      <th>0</th>\n",
              "      <td>RII</td>\n",
              "      <td>1503.947</td>\n",
              "      <td>True</td>\n",
              "      <td>Yes</td>\n",
              "    </tr>\n",
              "    <tr>\n",
              "      <th>1</th>\n",
              "      <td>STP</td>\n",
              "      <td>1300.000</td>\n",
              "      <td>False</td>\n",
              "      <td>Yes</td>\n",
              "    </tr>\n",
              "    <tr>\n",
              "      <th>2</th>\n",
              "      <td>BFF</td>\n",
              "      <td>1478.004</td>\n",
              "      <td>True</td>\n",
              "      <td>Yes</td>\n",
              "    </tr>\n",
              "    <tr>\n",
              "      <th>3</th>\n",
              "      <td>WBU</td>\n",
              "      <td>1300.000</td>\n",
              "      <td>False</td>\n",
              "      <td>Yes</td>\n",
              "    </tr>\n",
              "    <tr>\n",
              "      <th>4</th>\n",
              "      <td>RCH</td>\n",
              "      <td>1503.420</td>\n",
              "      <td>True</td>\n",
              "      <td>Yes</td>\n",
              "    </tr>\n",
              "  </tbody>\n",
              "</table>\n",
              "</div>"
            ],
            "text/plain": [
              "  team       elo  largest_team larger_team\n",
              "0  RII  1503.947          True         Yes\n",
              "1  STP  1300.000         False         Yes\n",
              "2  BFF  1478.004          True         Yes\n",
              "3  WBU  1300.000         False         Yes\n",
              "4  RCH  1503.420          True         Yes"
            ]
          },
          "metadata": {
            "tags": []
          },
          "execution_count": 47
        }
      ]
    },
    {
      "cell_type": "code",
      "metadata": {
        "id": "fQ60BCu_ls0J",
        "colab_type": "code",
        "colab": {
          "base_uri": "https://localhost:8080/",
          "height": 1000
        },
        "outputId": "22c3babb-e734-4d4c-9e91-05f18fe9db5c"
      },
      "source": [
        "data_fl2['team_size'] = np.where(data_fl2['elo'] < 1389, \"Low\",\n",
        "                        np.where(data_fl2['elo'] <= 1439, \"Medium\",\n",
        "                        np.where(data_fl2['elo'] > 1490, \"High\", \"Moderate\")))\n",
        "print(data_fl2)"
      ],
      "execution_count": 71,
      "outputs": [
        {
          "output_type": "stream",
          "text": [
            "    team       elo  largest_team larger_team team_size\n",
            "0    RII  1503.947          True         Yes      High\n",
            "1    STP  1300.000         False         Yes       Low\n",
            "2    BFF  1478.004          True         Yes  Moderate\n",
            "3    WBU  1300.000         False         Yes       Low\n",
            "4    RCH  1503.420          True         Yes      High\n",
            "5    ABU  1300.000         False         Yes       Low\n",
            "6    DAY  1493.002          True         Yes      High\n",
            "7    COL  1504.908          True         Yes      High\n",
            "8    MUN  1478.004          True         Yes  Moderate\n",
            "9    CHI  1368.333          True         Yes       Low\n",
            "10   MUT  1300.000         False         Yes       Low\n",
            "11   CBD  1504.688          True         Yes      High\n",
            "12   PTQ  1300.000         False         Yes       Low\n",
            "13   AKR  1503.420          True         Yes      High\n",
            "14   WHE  1300.000         False         Yes       Low\n",
            "15   DHR  1499.667          True         Yes      High\n",
            "16   CLP  1300.000         False         Yes       Low\n",
            "17   CHT  1300.000         False         Yes       Low\n",
            "18   ARI  1493.002          True         Yes      High\n",
            "19   CTI  1464.506          True         Yes  Moderate\n",
            "20   FTP  1300.000         False         Yes       Low\n",
            "21   HAM  1444.259          True         Yes  Moderate\n",
            "22   KEW  1300.000         False         Yes       Low\n",
            "23   TLM  1300.000         False         Yes       Low\n",
            "24   MCK  1300.000         False         Yes       Low\n",
            "25   UTI  1300.000         False         Yes       Low\n",
            "26   CNC  1300.000         False         Yes       Low\n",
            "27   FTW  1300.000         False         Yes       Low\n",
            "28   SYR  1300.000         False         Yes       Low\n",
            "29   LOG  1300.000         False         Yes       Low\n",
            "..   ...       ...           ...         ...       ...\n",
            "93    SF  1300.000         False         Yes       Low\n",
            "94   NAA  1300.000         False         Yes       Low\n",
            "95   BBA  1300.000         False         Yes       Low\n",
            "96   BDA  1300.000         False         Yes       Low\n",
            "97   CRA  1300.000         False         Yes       Low\n",
            "98   LDA  1300.000         False         Yes       Low\n",
            "99   BCL  1300.000         False         Yes       Low\n",
            "100  NYY  1300.000         False         Yes       Low\n",
            "101  DTX  1300.000         False         Yes       Low\n",
            "102  IND  1300.000         False         Yes       Low\n",
            "103   NE  1300.000         False         Yes       Low\n",
            "104  DEN  1300.000         False         Yes       Low\n",
            "105  LAC  1300.000         False         Yes       Low\n",
            "106   KC  1300.000         False         Yes       Low\n",
            "107  OAK  1300.000         False         Yes       Low\n",
            "108  TEN  1300.000         False         Yes       Low\n",
            "109  NYJ  1300.000         False         Yes       Low\n",
            "110  BUF  1300.000         False         Yes       Low\n",
            "111  DAL  1300.000         False         Yes       Low\n",
            "112  MIN  1300.000         False         Yes       Low\n",
            "113  MIA  1300.000         False         Yes       Low\n",
            "114  ATL  1300.000         False         Yes       Low\n",
            "115   NO  1300.000         False         Yes       Low\n",
            "116  CIN  1300.000         False         Yes       Low\n",
            "117   TB  1300.000         False         Yes       Low\n",
            "118  SEA  1300.000         False         Yes       Low\n",
            "119  CAR  1300.000         False         Yes       Low\n",
            "120  JAX  1300.000         False         Yes       Low\n",
            "121  BAL  1432.223          True         Yes    Medium\n",
            "122  HOU  1300.000         False         Yes       Low\n",
            "\n",
            "[123 rows x 5 columns]\n"
          ],
          "name": "stdout"
        }
      ]
    },
    {
      "cell_type": "code",
      "metadata": {
        "id": "dMpVh1yjpAD3",
        "colab_type": "code",
        "colab": {
          "base_uri": "https://localhost:8080/",
          "height": 109
        },
        "outputId": "16075797-179c-4842-dd81-b91223f60750"
      },
      "source": [
        "data_fl2.team_size.value_counts()"
      ],
      "execution_count": 74,
      "outputs": [
        {
          "output_type": "execute_result",
          "data": {
            "text/plain": [
              "Low         95\n",
              "High        15\n",
              "Moderate     7\n",
              "Medium       6\n",
              "Name: team_size, dtype: int64"
            ]
          },
          "metadata": {
            "tags": []
          },
          "execution_count": 74
        }
      ]
    },
    {
      "cell_type": "markdown",
      "metadata": {
        "id": "fTK2OrrXiG3p",
        "colab_type": "text"
      },
      "source": [
        "###PLOTTING THE DATA"
      ]
    },
    {
      "cell_type": "code",
      "metadata": {
        "id": "9_8F6xmXgrpS",
        "colab_type": "code",
        "colab": {
          "base_uri": "https://localhost:8080/",
          "height": 287
        },
        "outputId": "ac982e47-1114-4670-ad0e-5d6b45c83da2"
      },
      "source": [
        "import matplotlib.pyplot as plt\n",
        "%matplotlib inline\n",
        "\n",
        "#Plot a hist\n",
        "data_fl2.elo.hist(bins = 10)"
      ],
      "execution_count": 57,
      "outputs": [
        {
          "output_type": "execute_result",
          "data": {
            "text/plain": [
              "<matplotlib.axes._subplots.AxesSubplot at 0x7f253429b6d8>"
            ]
          },
          "metadata": {
            "tags": []
          },
          "execution_count": 57
        },
        {
          "output_type": "display_data",
          "data": {
            "image/png": "[encoded data removed]",
            "text/plain": [
              "<Figure size 432x288 with 1 Axes>"
            ]
          },
          "metadata": {
            "tags": []
          }
        }
      ]
    },
    {
      "cell_type": "markdown",
      "metadata": {
        "id": "KIO7eLRvrCpt",
        "colab_type": "text"
      },
      "source": [
        "**NEW: COUNTRIES DATA**"
      ]
    },
    {
      "cell_type": "code",
      "metadata": {
        "id": "nvkgOZNKrA6w",
        "colab_type": "code",
        "colab": {
          "base_uri": "https://localhost:8080/",
          "height": 329
        },
        "outputId": "2db0c9cf-1d1f-4c2c-add3-b99591d04b3b"
      },
      "source": [
        "countries = pd.read_csv('https://raw.githubusercontent.com/Anthonyyoyo/ISO-3166-Countries-with-Regional-Codes/master/all/all.csv')\n",
        "print(countries.shape)\n",
        "\n",
        "countries.head()"
      ],
      "execution_count": 76,
      "outputs": [
        {
          "output_type": "stream",
          "text": [
            "(249, 11)\n"
          ],
          "name": "stdout"
        },
        {
          "output_type": "execute_result",
          "data": {
            "text/html": [
              "<div>\n",
              "<style scoped>\n",
              "    .dataframe tbody tr th:only-of-type {\n",
              "        vertical-align: middle;\n",
              "    }\n",
              "\n",
              "    .dataframe tbody tr th {\n",
              "        vertical-align: top;\n",
              "    }\n",
              "\n",
              "    .dataframe thead th {\n",
              "        text-align: right;\n",
              "    }\n",
              "</style>\n",
              "<table border=\"1\" class=\"dataframe\">\n",
              "  <thead>\n",
              "    <tr style=\"text-align: right;\">\n",
              "      <th></th>\n",
              "      <th>name</th>\n",
              "      <th>alpha-2</th>\n",
              "      <th>alpha-3</th>\n",
              "      <th>country-code</th>\n",
              "      <th>iso_3166-2</th>\n",
              "      <th>region</th>\n",
              "      <th>sub-region</th>\n",
              "      <th>intermediate-region</th>\n",
              "      <th>region-code</th>\n",
              "      <th>sub-region-code</th>\n",
              "      <th>intermediate-region-code</th>\n",
              "    </tr>\n",
              "  </thead>\n",
              "  <tbody>\n",
              "    <tr>\n",
              "      <th>0</th>\n",
              "      <td>Afghanistan</td>\n",
              "      <td>AF</td>\n",
              "      <td>AFG</td>\n",
              "      <td>4</td>\n",
              "      <td>ISO 3166-2:AF</td>\n",
              "      <td>Asia</td>\n",
              "      <td>Southern Asia</td>\n",
              "      <td>NaN</td>\n",
              "      <td>142.0</td>\n",
              "      <td>34.0</td>\n",
              "      <td>NaN</td>\n",
              "    </tr>\n",
              "    <tr>\n",
              "      <th>1</th>\n",
              "      <td>Åland Islands</td>\n",
              "      <td>AX</td>\n",
              "      <td>ALA</td>\n",
              "      <td>248</td>\n",
              "      <td>ISO 3166-2:AX</td>\n",
              "      <td>Europe</td>\n",
              "      <td>Northern Europe</td>\n",
              "      <td>NaN</td>\n",
              "      <td>150.0</td>\n",
              "      <td>154.0</td>\n",
              "      <td>NaN</td>\n",
              "    </tr>\n",
              "    <tr>\n",
              "      <th>2</th>\n",
              "      <td>Albania</td>\n",
              "      <td>AL</td>\n",
              "      <td>ALB</td>\n",
              "      <td>8</td>\n",
              "      <td>ISO 3166-2:AL</td>\n",
              "      <td>Europe</td>\n",
              "      <td>Southern Europe</td>\n",
              "      <td>NaN</td>\n",
              "      <td>150.0</td>\n",
              "      <td>39.0</td>\n",
              "      <td>NaN</td>\n",
              "    </tr>\n",
              "    <tr>\n",
              "      <th>3</th>\n",
              "      <td>Algeria</td>\n",
              "      <td>DZ</td>\n",
              "      <td>DZA</td>\n",
              "      <td>12</td>\n",
              "      <td>ISO 3166-2:DZ</td>\n",
              "      <td>Africa</td>\n",
              "      <td>Northern Africa</td>\n",
              "      <td>NaN</td>\n",
              "      <td>2.0</td>\n",
              "      <td>15.0</td>\n",
              "      <td>NaN</td>\n",
              "    </tr>\n",
              "    <tr>\n",
              "      <th>4</th>\n",
              "      <td>American Samoa</td>\n",
              "      <td>AS</td>\n",
              "      <td>ASM</td>\n",
              "      <td>16</td>\n",
              "      <td>ISO 3166-2:AS</td>\n",
              "      <td>Oceania</td>\n",
              "      <td>Polynesia</td>\n",
              "      <td>NaN</td>\n",
              "      <td>9.0</td>\n",
              "      <td>61.0</td>\n",
              "      <td>NaN</td>\n",
              "    </tr>\n",
              "  </tbody>\n",
              "</table>\n",
              "</div>"
            ],
            "text/plain": [
              "             name alpha-2  ... sub-region-code  intermediate-region-code\n",
              "0     Afghanistan      AF  ...            34.0                       NaN\n",
              "1   Åland Islands      AX  ...           154.0                       NaN\n",
              "2         Albania      AL  ...            39.0                       NaN\n",
              "3         Algeria      DZ  ...            15.0                       NaN\n",
              "4  American Samoa      AS  ...            61.0                       NaN\n",
              "\n",
              "[5 rows x 11 columns]"
            ]
          },
          "metadata": {
            "tags": []
          },
          "execution_count": 76
        }
      ]
    },
    {
      "cell_type": "markdown",
      "metadata": {
        "id": "BT9gdS7viJZa",
        "colab_type": "text"
      },
      "source": [
        "### Assignment questions\n",
        "\n",
        "After you've worked on some code, answer the following questions in this text block:\n",
        "\n",
        "1.  Describe in a paragraph of text what you did and why, as if you were writing an email to somebody interested but nontechnical.\n",
        "\n",
        "2.  What was the most challenging part of what you did?\n",
        "\n",
        "3.  What was the most interesting thing you learned?\n",
        "\n",
        "4.  What area would you like to explore with more time?\n",
        "\n",
        "\n"
      ]
    },
    {
      "cell_type": "markdown",
      "metadata": {
        "id": "_XXg2crAipwP",
        "colab_type": "text"
      },
      "source": [
        "## Stretch goals and resources\n",
        "\n",
        "Following are *optional* things for you to take a look at. Focus on the above assignment first, and make sure to commit and push your changes to GitHub (and since this is the first assignment of the sprint, open a PR as well).\n",
        "\n",
        "- [pandas documentation](https://pandas.pydata.org/pandas-docs/stable/)\n",
        "- [scikit-learn documentation](http://scikit-learn.org/stable/documentation.html)\n",
        "- [matplotlib documentation](https://matplotlib.org/contents.html)\n",
        "- [Awesome Data Science](https://github.com/bulutyazilim/awesome-datascience) - a list of many types of DS resources\n",
        "\n",
        "Stretch goals:\n",
        "\n",
        "- Find and read blogs, walkthroughs, and other examples of people working through cool things with data science - and share with your classmates!\n",
        "- Write a blog post (Medium is a popular place to publish) introducing yourself as somebody learning data science, and talking about what you've learned already and what you're excited to learn more about."
      ]
    }
  ]
}